{
 "cells": [
  {
   "cell_type": "code",
   "execution_count": 3,
   "id": "c40c11d2",
   "metadata": {},
   "outputs": [
    {
     "name": "stdout",
     "output_type": "stream",
     "text": [
      "[(4, 2), (4, 2)]\n"
     ]
    }
   ],
   "source": [
    "def find_pairs(arr, target_sum):\n",
    "    pairs = []\n",
    "    seen = set()\n",
    "    \n",
    "    for num in arr:\n",
    "        complement = target_sum - num\n",
    "        if complement in seen:\n",
    "            pairs.append((num, complement))\n",
    "        seen.add(num)\n",
    "    \n",
    "    return pairs\n",
    "array = [2, 4, 6, 8, 6, -6, 4, 10, 8, 9]\n",
    "target = 6\n",
    "result = find_pairs(array, target)\n",
    "print(result)\n"
   ]
  },
  {
   "cell_type": "code",
   "execution_count": 5,
   "id": "4f08afad",
   "metadata": {},
   "outputs": [
    {
     "name": "stdout",
     "output_type": "stream",
     "text": [
      "[6, 5, 4, 3, 2, 1]\n"
     ]
    }
   ],
   "source": [
    "def reverse_array(arr):\n",
    "    start = 0\n",
    "    end = len(arr) - 1\n",
    "    \n",
    "    while start < end:\n",
    "        arr[start], arr[end] = arr[end], arr[start]\n",
    "        start += 1\n",
    "        end -= 1\n",
    "array = [1, 2, 3, 4, 5,6]\n",
    "reverse_array(array)\n",
    "print(array)\n",
    "\n"
   ]
  },
  {
   "cell_type": "code",
   "execution_count": 10,
   "id": "3ec7267b",
   "metadata": {},
   "outputs": [
    {
     "name": "stdout",
     "output_type": "stream",
     "text": [
      "True\n"
     ]
    }
   ],
   "source": [
    "def are_rotations(string1, string2):\n",
    "    if len(string1) != len(string2):\n",
    "        return False\n",
    "    \n",
    "    concatenated = string1 + string1\n",
    "    \n",
    "    if string2 in concatenated:\n",
    "        return True\n",
    "    \n",
    "    return False\n",
    "\n",
    "# Example usage\n",
    "str1 = \"rotation\"\n",
    "str2 = \"tionrota\"\n",
    "result = are_rotations(str1, str2)\n",
    "print(result)\n"
   ]
  },
  {
   "cell_type": "code",
   "execution_count": 15,
   "id": "10227c55",
   "metadata": {},
   "outputs": [
    {
     "name": "stdout",
     "output_type": "stream",
     "text": [
      "y\n"
     ]
    }
   ],
   "source": [
    "from collections import Counter\n",
    "\n",
    "def first_non_repeated_char(string):\n",
    "    counts = Counter(string)\n",
    "    \n",
    "    for char in string:\n",
    "        if counts[char] == 1:\n",
    "            return char\n",
    "    \n",
    "    return None\n",
    "input_str = \"shivashivay\"\n",
    "result = first_non_repeated_char(input_str)\n",
    "print(result)\n"
   ]
  },
  {
   "cell_type": "code",
   "execution_count": 16,
   "id": "588774eb",
   "metadata": {},
   "outputs": [
    {
     "name": "stdout",
     "output_type": "stream",
     "text": [
      "Move disk 1 from A to C\n",
      "Move disk 2 from A to B\n",
      "Move disk 1 from C to B\n",
      "Move disk 3 from A to C\n",
      "Move disk 1 from B to A\n",
      "Move disk 2 from B to C\n",
      "Move disk 1 from A to C\n"
     ]
    }
   ],
   "source": [
    "def tower_of_hanoi(n, source, destination, auxiliary):\n",
    "    if n == 1:\n",
    "        print(f\"Move disk 1 from {source} to {destination}\")\n",
    "        return\n",
    "    \n",
    "    tower_of_hanoi(n-1, source, auxiliary, destination)\n",
    "    print(f\"Move disk {n} from {source} to {destination}\")\n",
    "    tower_of_hanoi(n-1, auxiliary, destination, source)\n",
    "\n",
    "n_disks = 3\n",
    "tower_of_hanoi(n_disks, 'A', 'C', 'B')\n"
   ]
  },
  {
   "cell_type": "code",
   "execution_count": 19,
   "id": "2316c0ba",
   "metadata": {},
   "outputs": [
    {
     "name": "stdout",
     "output_type": "stream",
     "text": [
      "/+AB-CD\n"
     ]
    }
   ],
   "source": [
    "def is_operator(char):\n",
    "    operators = {'+', '-', '*', '/'}\n",
    "    return char in operators\n",
    "\n",
    "def postfix_to_prefix(expression):\n",
    "    stack = []\n",
    "    \n",
    "    for char in expression:\n",
    "        if is_operator(char):\n",
    "            operand2 = stack.pop()\n",
    "            operand1 = stack.pop()\n",
    "            prefix_expr = char + operand1 + operand2\n",
    "            stack.append(prefix_expr)\n",
    "        else:\n",
    "            stack.append(char)\n",
    "    \n",
    "    return stack.pop()\n",
    "postfix_expr = \"AB+CD-/\"\n",
    "prefix_expr = postfix_to_prefix(postfix_expr)\n",
    "print(prefix_expr)\n"
   ]
  },
  {
   "cell_type": "code",
   "execution_count": 20,
   "id": "d52d0f32",
   "metadata": {},
   "outputs": [
    {
     "name": "stdout",
     "output_type": "stream",
     "text": [
      "((A+B)-(C-D))\n"
     ]
    }
   ],
   "source": [
    "def is_operator(char):\n",
    "    operators = {'+', '-', '*', '/'}\n",
    "    return char in operators\n",
    "\n",
    "def prefix_to_infix(expression):\n",
    "    stack = []\n",
    "    \n",
    "    for char in reversed(expression):\n",
    "        if is_operator(char):\n",
    "            operand1 = stack.pop()\n",
    "            operand2 = stack.pop()\n",
    "            infix_expr = f\"({operand1}{char}{operand2})\"\n",
    "            stack.append(infix_expr)\n",
    "        else:\n",
    "            stack.append(char)\n",
    "    \n",
    "    return stack.pop()\n",
    "\n",
    "prefix_expr = \"-+AB-CDE\"\n",
    "infix_expr = prefix_to_infix(prefix_expr)\n",
    "print(infix_expr)\n"
   ]
  },
  {
   "cell_type": "code",
   "execution_count": 21,
   "id": "f30ff506",
   "metadata": {},
   "outputs": [
    {
     "name": "stdout",
     "output_type": "stream",
     "text": [
      "True\n"
     ]
    }
   ],
   "source": [
    "def are_brackets_balanced(code):\n",
    "    stack = []\n",
    "    opening_brackets = ['(', '[', '{']\n",
    "    closing_brackets = [')', ']', '}']\n",
    "    \n",
    "    for char in code:\n",
    "        if char in opening_brackets:\n",
    "            stack.append(char)\n",
    "        elif char in closing_brackets:\n",
    "            if len(stack) == 0:\n",
    "                return False\n",
    "            \n",
    "            top = stack.pop()\n",
    "            if opening_brackets.index(top) != closing_brackets.index(char):\n",
    "                return False\n",
    "    \n",
    "    return len(stack) == 0\n",
    "\n",
    "code_snippet = \"(a + b) * [c - {d / e}]\"\n",
    "result = are_brackets_balanced(code_snippet)\n",
    "print(result)\n"
   ]
  },
  {
   "cell_type": "code",
   "execution_count": 22,
   "id": "3880565e",
   "metadata": {},
   "outputs": [
    {
     "name": "stdout",
     "output_type": "stream",
     "text": [
      "[5, 4, 3, 2, 1]\n"
     ]
    }
   ],
   "source": [
    "def reverse_stack(stack):\n",
    "    if len(stack) <= 1:\n",
    "        return stack\n",
    "    \n",
    "    last_element = stack.pop()\n",
    "    reverse_stack(stack)\n",
    "    insert_at_bottom(stack, last_element)\n",
    "\n",
    "def insert_at_bottom(stack, item):\n",
    "    if len(stack) == 0:\n",
    "        stack.append(item)\n",
    "        return\n",
    "    \n",
    "    last_element = stack.pop()\n",
    "    insert_at_bottom(stack, item)\n",
    "    stack.append(last_element)\n",
    "\n",
    "stack = [1, 2, 3, 4, 5]\n",
    "reverse_stack(stack)\n",
    "print(stack)\n"
   ]
  },
  {
   "cell_type": "code",
   "execution_count": 23,
   "id": "856eec05",
   "metadata": {},
   "outputs": [
    {
     "name": "stdout",
     "output_type": "stream",
     "text": [
      "1\n"
     ]
    }
   ],
   "source": [
    "def find_smallest_number(stack):\n",
    "    if len(stack) == 0:\n",
    "        return None\n",
    "    \n",
    "    smallest = stack.pop()\n",
    "    \n",
    "    if len(stack) > 0:\n",
    "        temp = find_smallest_number(stack)\n",
    "        if temp < smallest:\n",
    "            smallest = temp\n",
    "    \n",
    "    return smallest\n",
    "\n",
    "stack = [5, 3, 8, 1, 2, 10]\n",
    "smallest_number = find_smallest_number(stack)\n",
    "print(smallest_number)\n"
   ]
  },
  {
   "cell_type": "code",
   "execution_count": null,
   "id": "ae18708e",
   "metadata": {},
   "outputs": [],
   "source": []
  }
 ],
 "metadata": {
  "kernelspec": {
   "display_name": "Python 3 (ipykernel)",
   "language": "python",
   "name": "python3"
  },
  "language_info": {
   "codemirror_mode": {
    "name": "ipython",
    "version": 3
   },
   "file_extension": ".py",
   "mimetype": "text/x-python",
   "name": "python",
   "nbconvert_exporter": "python",
   "pygments_lexer": "ipython3",
   "version": "3.11.4"
  }
 },
 "nbformat": 4,
 "nbformat_minor": 5
}
